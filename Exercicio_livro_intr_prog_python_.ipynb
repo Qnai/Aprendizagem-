{
  "nbformat": 4,
  "nbformat_minor": 0,
  "metadata": {
    "colab": {
      "name": "Exercicio_livro intr_prog_python .ipynb",
      "provenance": [],
      "collapsed_sections": [],
      "authorship_tag": "ABX9TyO+NztnT5ib9LVjC4Eaq5EC",
      "include_colab_link": true
    },
    "kernelspec": {
      "name": "python3",
      "display_name": "Python 3"
    },
    "language_info": {
      "name": "python"
    }
  },
  "cells": [
    {
      "cell_type": "markdown",
      "metadata": {
        "id": "view-in-github",
        "colab_type": "text"
      },
      "source": [
        "<a href=\"https://colab.research.google.com/github/Qnai/Aprendizagem-/blob/gh-pages/Exercicio_livro_intr_prog_python_.ipynb\" target=\"_parent\"><img src=\"https://colab.research.google.com/assets/colab-badge.svg\" alt=\"Open In Colab\"/></a>"
      ]
    },
    {
      "cell_type": "markdown",
      "source": [
        "WHILE\n"
      ],
      "metadata": {
        "id": "tMbEd1gcZJ5G"
      }
    },
    {
      "cell_type": "code",
      "execution_count": null,
      "metadata": {
        "id": "gnlyisFzX4eo"
      },
      "outputs": [],
      "source": [
        "x = 1    # Contador\n",
        "\n",
        "while x < 10:\n",
        "  print(x)\n",
        "\n",
        "  x += 1 #Acrecentando  um valor no X para não ficar no loop infinito em 0\n"
      ]
    },
    {
      "cell_type": "markdown",
      "source": [
        "Mostrando Numero PAR"
      ],
      "metadata": {
        "id": "yFCwyFAnfPH4"
      }
    },
    {
      "cell_type": "code",
      "source": [
        "vr1 = int(input('Digite o ultimo valor a imprimir: '))\n",
        "\n",
        "x = 0\n",
        "\n",
        "while x <= vr1:\n",
        "  if x % 2 == 0:\n",
        "    print(x)\n",
        "\n",
        "  x += 1\n",
        "\n",
        "# *********************************** Modifiando o numero X = x + 2\n",
        "\n",
        "vr2 = int(input('Digite o ultimo valor a imprimir: '))\n",
        "\n",
        "x = 0\n",
        "while x <= vr2:\n",
        "  print(x)\n",
        "\n",
        "  x += 2"
      ],
      "metadata": {
        "id": "SLUCsunYdSyd"
      },
      "execution_count": null,
      "outputs": []
    },
    {
      "cell_type": "markdown",
      "source": [
        "Mostrando Numero IMPAR ̄\\\n",
        "EXERCICIO  5.4\n",
        "\n"
      ],
      "metadata": {
        "id": "SaH3LRGbjJR2"
      }
    },
    {
      "cell_type": "code",
      "source": [
        "vr1 = int(input('Digite o ultimo valor a imprimir: '))\n",
        "\n",
        "x = 0\n",
        "\n",
        "while x <= vr1:\n",
        "  if x % 2 == 1:\n",
        "    print(x)\n",
        "\n",
        "  x += 1\n"
      ],
      "metadata": {
        "id": "P62fLfbyjLyt"
      },
      "execution_count": null,
      "outputs": []
    },
    {
      "cell_type": "markdown",
      "source": [
        "EXERCICIO 5.5 \\\n",
        "Dez múltiplos de 3 "
      ],
      "metadata": {
        "id": "h5x5xrXckLvQ"
      }
    },
    {
      "cell_type": "code",
      "source": [
        "vr2 = int(input('Digite o ultimo valor a imprimir: '))\n",
        "\n",
        "x = 0\n",
        "while x <= vr2:\n",
        "  print(x)\n",
        "\n",
        "  x += 3 # manipulando aqui, condigo realizar o multiplo de trÊs \n"
      ],
      "metadata": {
        "id": "j4-s4IaSkZip"
      },
      "execution_count": null,
      "outputs": []
    },
    {
      "cell_type": "code",
      "source": [
        "vr = int(input('Tabuada de (soma): '))\n",
        "x = 1\n",
        "\n",
        "while x <= 10:\n",
        "  print(vr + x)\n",
        "  x += 1\n",
        "\n",
        "#********************************\n",
        "\n",
        "vr = int(input('Tabuada de (Multiplicação): '))\n",
        "x = 1\n",
        "\n",
        "while x <= 10:\n",
        "  print(vr * x)\n",
        "  x += 1\n"
      ],
      "metadata": {
        "id": "sTAZRu8fmcUF"
      },
      "execution_count": null,
      "outputs": []
    },
    {
      "cell_type": "markdown",
      "source": [
        "Tabuada de Multiplicação \\\n",
        "EXERCICIOS 5.6 \\\n",
        "EXERCICIOS 5.7"
      ],
      "metadata": {
        "id": "bzCC0OiYqcPU"
      }
    },
    {
      "cell_type": "code",
      "source": [
        "\n",
        "vr = int(input('Tabuada de (Multiplicação): '))\n",
        "x = 1\n",
        "\n",
        "while x <= 10:\n",
        "  print(f'{vr} x {x} = {vr * x}')\n",
        "  x += 1\n",
        "\n",
        "  #***************************\n",
        "\n",
        "vr = int(input('Tabuada de (Multiplicação): '))\n",
        "vr1 = int(input('Digite o valor a iniciar: '))\n",
        "vr2 = int(input('Valor que vai terminar '))\n",
        "\n",
        "x = vr1\n",
        "\n",
        "while x <= vr2:\n",
        "  \n",
        "    print(f'{vr} x {x} = {vr * x}')\n",
        "  \n",
        "    x += 1\n",
        "\n",
        "\n",
        "# Inserino mais duas variaveis  com os dados de inicio e fim e fazendo o While trabalhar dentro dessa variaveis \n",
        "\n",
        "\n",
        "\n"
      ],
      "metadata": {
        "colab": {
          "base_uri": "https://localhost:8080/"
        },
        "id": "LXV18VBFqr7U",
        "outputId": "904e8e09-fa29-4f81-a034-31d6388c5345"
      },
      "execution_count": null,
      "outputs": [
        {
          "output_type": "stream",
          "name": "stdout",
          "text": [
            "Tabuada de (Multiplicação): 5\n",
            "5 x 1 = 5\n",
            "5 x 2 = 10\n",
            "5 x 3 = 15\n",
            "5 x 4 = 20\n",
            "5 x 5 = 25\n",
            "5 x 6 = 30\n",
            "5 x 7 = 35\n",
            "5 x 8 = 40\n",
            "5 x 9 = 45\n",
            "5 x 10 = 50\n",
            "Tabuada de (Multiplicação): 5\n",
            "Digite o valor a iniciar: 3\n",
            "Valor que vai terminar 5\n",
            "5 x 3 = 15\n",
            "5 x 4 = 20\n",
            "5 x 5 = 25\n"
          ]
        }
      ]
    },
    {
      "cell_type": "markdown",
      "source": [
        "EXERCICIO 5.8 \\\n",
        "\n",
        "Fazendo multiplicação usando só a soma e sbtração\n"
      ],
      "metadata": {
        "id": "slZ4rd5PipoW"
      }
    },
    {
      "cell_type": "code",
      "source": [
        "x1 = int(input('Digite o Primeiro número: '))\n",
        "x2 = int(input('Digite o Segundo número: '))\n",
        "\n",
        "x = 1\n",
        "soma = 0\n",
        "\n",
        "while x <= x2:\n",
        "  soma = x1 + soma\n",
        "  resultado = soma    \n",
        "  x += 1\n",
        "print(f'Somando {x1} em {x2} vezes é igual: {resultado}')\n",
        "\n",
        "\n",
        "\n"
      ],
      "metadata": {
        "colab": {
          "base_uri": "https://localhost:8080/"
        },
        "id": "HYd97w9GjJD4",
        "outputId": "ab7bd69d-131e-4ea4-fd19-800e2971b380"
      },
      "execution_count": null,
      "outputs": [
        {
          "output_type": "stream",
          "name": "stdout",
          "text": [
            "Digite o Primeiro número: 2\n",
            "Digite o Segundo número: 6\n",
            "Somando 2 em 6 vezes é igual: 12\n"
          ]
        }
      ]
    },
    {
      "cell_type": "markdown",
      "source": [
        "EXERCICIO 5.9\n",
        "- DIVISÃO USANDO A SUBTRAÇÃO "
      ],
      "metadata": {
        "id": "XiFAFdvKBYmC"
      }
    },
    {
      "cell_type": "code",
      "source": [
        "divd = int(input('Digite um número: '))\n",
        "divs = int(input('Digite o numero a ser divido: '))\n",
        "\n",
        "x = divd\n",
        "quoc = 0\n",
        "\n",
        "while x >= divs:\n",
        "  x = x - divs\n",
        "  quoc += 1\n",
        "\n",
        "resto = x\n",
        "\n",
        "print(f'{divd} divido por {divs} é igual a: {quoc} sobrando: {resto}' )"
      ],
      "metadata": {
        "colab": {
          "base_uri": "https://localhost:8080/"
        },
        "id": "XQmv8b1IBqg3",
        "outputId": "109d7102-ecd7-495c-936b-36ac5b4526a5"
      },
      "execution_count": 1,
      "outputs": [
        {
          "output_type": "stream",
          "name": "stdout",
          "text": [
            "Digite um número: 23\n",
            "Digite o numero a ser divido: 4\n",
            "23 / 4 é igual a 5 com o resto 3\n"
          ]
        }
      ]
    },
    {
      "cell_type": "markdown",
      "source": [
        "EXERCICIO 5.11\n",
        "\n",
        "- JUROS SIMPLES"
      ],
      "metadata": {
        "id": "sHHBeR6DSWbi"
      }
    },
    {
      "cell_type": "code",
      "source": [
        "deposito_incial = float(input('Digita o valor do deposito: '))\n",
        "taxa = float(input('Digite o valor da taxa de juros: '))\n",
        "tempo = int(input('Ditite a quantidade de meses: '))\n",
        "\n",
        "mes = tempo\n",
        "soma = 1\n",
        "\n",
        "while soma <= tempo:\n",
        "  juros = deposito_incial *(taxa / 100) * soma\n",
        "  rendimento = deposito_incial + juros\n",
        "  print(f'no mês {soma} com a taxa de {taxa}% ao mês tera o lucro de: R$ {juros}, no total de {rendimento}')\n",
        "\n",
        "  soma += 1\n",
        "\n"
      ],
      "metadata": {
        "id": "pcCeD9y6TR58"
      },
      "execution_count": null,
      "outputs": []
    },
    {
      "cell_type": "markdown",
      "source": [
        "\n",
        "\n",
        "- EXERCICIO 5.11"
      ],
      "metadata": {
        "id": "G9Lyvnk3dUAN"
      }
    },
    {
      "cell_type": "code",
      "source": [
        "deposito_incial = float(input('Digita o valor do deposito: '))\n",
        "taxa = float(input('Digite o valor da taxa de juros: '))\n",
        "tempo = int(input('Ditite a quantidade de meses: '))\n",
        "\n",
        "mes = tempo\n",
        "soma = 1\n",
        "\n",
        "while soma <= tempo:\n",
        "  juros = deposito_incial *(taxa / 100) * soma\n",
        "  rendimento = deposito_incial + juros\n",
        "  print(f'no mês {soma} com a taxa de {taxa:6.2f}% ao mês tera o lucro de: R$ {juros:6.2f}, no total de {rendimento:6.2f}')\n",
        "\n",
        "  if soma <= tempo:\n",
        "    pergunta = input('Gostaria de incluir um novo valor? S / N ')\n",
        "    if pergunta == 'S':\n",
        "      novo_deposito = float(input('Digite um novo deposito: '))\n",
        "      soma2 = novo_deposito + rendimento\n",
        "      deposito_incial = soma2\n",
        "      if soma == tempo:\n",
        "        juros = deposito_incial * (taxa / 100) * soma\n",
        "        rendimento = deposito_incial + juros\n",
        "        print('Fim do perido de investimento.')\n",
        "        print(f'O valor ganhor em juros foi: R$ {juros:6.2f} com o total de ganho de R$ {rendimento:6.2f}')\n",
        "\n",
        "  soma += 1\n"
      ],
      "metadata": {
        "colab": {
          "base_uri": "https://localhost:8080/"
        },
        "id": "XD8yNvtuddhT",
        "outputId": "0404b232-a42a-410e-f3aa-3bc00856a144"
      },
      "execution_count": 7,
      "outputs": [
        {
          "output_type": "stream",
          "name": "stdout",
          "text": [
            "Digita o valor do deposito: 1200\n",
            "Digite o valor da taxa de juros: 2\n",
            "Ditite a quantidade de meses: 3\n",
            "no mês 1 com a taxa de   2.00% ao mês tera o lucro de: R$  24.00, no total de 1224.00\n",
            "Gostaria de incluir um novo valor? S / N S\n",
            "Digite um novo deposito: 100\n",
            "no mês 2 com a taxa de   2.00% ao mês tera o lucro de: R$  52.96, no total de 1376.96\n",
            "Gostaria de incluir um novo valor? S / N S\n",
            "Digite um novo deposito: 100\n",
            "no mês 3 com a taxa de   2.00% ao mês tera o lucro de: R$  88.62, no total de 1565.58\n",
            "Gostaria de incluir um novo valor? S / N S\n",
            "Digite um novo deposito: 100\n",
            "Fim do perido de investimento.\n",
            "O valor ganhor em juros foi: R$  99.93 com o total de ganho de R$ 1765.51\n"
          ]
        }
      ]
    }
  ]
}