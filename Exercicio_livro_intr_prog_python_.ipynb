{
  "nbformat": 4,
  "nbformat_minor": 0,
  "metadata": {
    "colab": {
      "name": "Exercicio_livro intr_prog_python .ipynb",
      "provenance": [],
      "collapsed_sections": [],
      "authorship_tag": "ABX9TyNrtgSOvjTptvTeuwGDXbQI",
      "include_colab_link": true
    },
    "kernelspec": {
      "name": "python3",
      "display_name": "Python 3"
    },
    "language_info": {
      "name": "python"
    }
  },
  "cells": [
    {
      "cell_type": "markdown",
      "metadata": {
        "id": "view-in-github",
        "colab_type": "text"
      },
      "source": [
        "<a href=\"https://colab.research.google.com/github/Qnai/Aprendizagem-/blob/gh-pages/Exercicio_livro_intr_prog_python_.ipynb\" target=\"_parent\"><img src=\"https://colab.research.google.com/assets/colab-badge.svg\" alt=\"Open In Colab\"/></a>"
      ]
    },
    {
      "cell_type": "markdown",
      "source": [
        "WHILE\n"
      ],
      "metadata": {
        "id": "tMbEd1gcZJ5G"
      }
    },
    {
      "cell_type": "code",
      "execution_count": null,
      "metadata": {
        "id": "gnlyisFzX4eo"
      },
      "outputs": [],
      "source": [
        "x = 1    # Contador\n",
        "\n",
        "while x < 10:\n",
        "  print(x)\n",
        "\n",
        "  x += 1 #Acrecentando  um valor no X para não ficar no loop infinito em 0\n"
      ]
    },
    {
      "cell_type": "markdown",
      "source": [
        "Mostrando Numero PAR"
      ],
      "metadata": {
        "id": "yFCwyFAnfPH4"
      }
    },
    {
      "cell_type": "code",
      "source": [
        "vr1 = int(input('Digite o ultimo valor a imprimir: '))\n",
        "\n",
        "x = 0\n",
        "\n",
        "while x <= vr1:\n",
        "  if x % 2 == 0:\n",
        "    print(x)\n",
        "\n",
        "  x += 1\n",
        "\n",
        "# *********************************** Modifiando o numero X = x + 2\n",
        "\n",
        "vr2 = int(input('Digite o ultimo valor a imprimir: '))\n",
        "\n",
        "x = 0\n",
        "while x <= vr2:\n",
        "  print(x)\n",
        "\n",
        "  x += 2"
      ],
      "metadata": {
        "id": "SLUCsunYdSyd"
      },
      "execution_count": null,
      "outputs": []
    },
    {
      "cell_type": "markdown",
      "source": [
        "Mostrando Numero IMPAR ̄\\\n",
        "EXERCICIO  5.4\n",
        "\n"
      ],
      "metadata": {
        "id": "SaH3LRGbjJR2"
      }
    },
    {
      "cell_type": "code",
      "source": [
        "vr1 = int(input('Digite o ultimo valor a imprimir: '))\n",
        "\n",
        "x = 0\n",
        "\n",
        "while x <= vr1:\n",
        "  if x % 2 == 1:\n",
        "    print(x)\n",
        "\n",
        "  x += 1\n"
      ],
      "metadata": {
        "id": "P62fLfbyjLyt"
      },
      "execution_count": null,
      "outputs": []
    },
    {
      "cell_type": "markdown",
      "source": [
        "EXERCICIO 5.5 \\\n",
        "Dez múltiplos de 3 "
      ],
      "metadata": {
        "id": "h5x5xrXckLvQ"
      }
    },
    {
      "cell_type": "code",
      "source": [
        "vr2 = int(input('Digite o ultimo valor a imprimir: '))\n",
        "\n",
        "x = 0\n",
        "while x <= vr2:\n",
        "  print(x)\n",
        "\n",
        "  x += 3 # manipulando aqui, condigo realizar o multiplo de trÊs \n"
      ],
      "metadata": {
        "id": "j4-s4IaSkZip"
      },
      "execution_count": null,
      "outputs": []
    },
    {
      "cell_type": "code",
      "source": [
        "vr = int(input('Tabuada de (soma): '))\n",
        "x = 1\n",
        "\n",
        "while x <= 10:\n",
        "  print(vr + x)\n",
        "  x += 1\n",
        "\n",
        "#********************************\n",
        "\n",
        "vr = int(input('Tabuada de (Multiplicação): '))\n",
        "x = 1\n",
        "\n",
        "while x <= 10:\n",
        "  print(vr * x)\n",
        "  x += 1\n"
      ],
      "metadata": {
        "id": "sTAZRu8fmcUF"
      },
      "execution_count": null,
      "outputs": []
    },
    {
      "cell_type": "markdown",
      "source": [
        "Tabuada de Multiplicação \\\n",
        "EXERCICIOS 5.6 \\\n",
        "EXERCICIOS 5.7"
      ],
      "metadata": {
        "id": "bzCC0OiYqcPU"
      }
    },
    {
      "cell_type": "code",
      "source": [
        "\n",
        "vr = int(input('Tabuada de (Multiplicação): '))\n",
        "x = 1\n",
        "\n",
        "while x <= 10:\n",
        "  print(f'{vr} x {x} = {vr * x}')\n",
        "  x += 1\n",
        "\n",
        "  #***************************\n",
        "\n",
        "vr = int(input('Tabuada de (Multiplicação): '))\n",
        "vr1 = int(input('Digite o valor a iniciar: '))\n",
        "vr2 = int(input('Valor que vai terminar '))\n",
        "\n",
        "x = vr1\n",
        "\n",
        "while x <= vr2:\n",
        "  \n",
        "    print(f'{vr} x {x} = {vr * x}')\n",
        "  \n",
        "    x += 1\n",
        "\n",
        "\n",
        "# Inserino mais duas variaveis  com os dados de inicio e fim e fazendo o While trabalhar dentro dessa variaveis \n",
        "\n",
        "\n",
        "\n"
      ],
      "metadata": {
        "colab": {
          "base_uri": "https://localhost:8080/"
        },
        "id": "LXV18VBFqr7U",
        "outputId": "904e8e09-fa29-4f81-a034-31d6388c5345"
      },
      "execution_count": 31,
      "outputs": [
        {
          "output_type": "stream",
          "name": "stdout",
          "text": [
            "Tabuada de (Multiplicação): 5\n",
            "5 x 1 = 5\n",
            "5 x 2 = 10\n",
            "5 x 3 = 15\n",
            "5 x 4 = 20\n",
            "5 x 5 = 25\n",
            "5 x 6 = 30\n",
            "5 x 7 = 35\n",
            "5 x 8 = 40\n",
            "5 x 9 = 45\n",
            "5 x 10 = 50\n",
            "Tabuada de (Multiplicação): 5\n",
            "Digite o valor a iniciar: 3\n",
            "Valor que vai terminar 5\n",
            "5 x 3 = 15\n",
            "5 x 4 = 20\n",
            "5 x 5 = 25\n"
          ]
        }
      ]
    },
    {
      "cell_type": "markdown",
      "source": [
        "EXERCICIO 5.8 \\\n",
        "\n",
        "Fazendo multiplicação usando só a soma e sbtração\n"
      ],
      "metadata": {
        "id": "slZ4rd5PipoW"
      }
    },
    {
      "cell_type": "code",
      "source": [
        "x1 = int(input('Digite o Primeiro número: '))\n",
        "x2 = int(input('Digite o Segundo número: '))\n",
        "\n",
        "x = 1\n",
        "soma = 0\n",
        "\n",
        "while x <= x2:\n",
        "  soma = x1 + soma\n",
        "  resultado = soma    \n",
        "  x += 1\n",
        "print(f'Somando {x1} em {x2} vezes é igual: {resultado}')\n",
        "\n",
        "\n",
        "\n"
      ],
      "metadata": {
        "colab": {
          "base_uri": "https://localhost:8080/"
        },
        "id": "HYd97w9GjJD4",
        "outputId": "ab7bd69d-131e-4ea4-fd19-800e2971b380"
      },
      "execution_count": 39,
      "outputs": [
        {
          "output_type": "stream",
          "name": "stdout",
          "text": [
            "Digite o Primeiro número: 2\n",
            "Digite o Segundo número: 6\n",
            "Somando 2 em 6 vezes é igual: 12\n"
          ]
        }
      ]
    }
  ]
}